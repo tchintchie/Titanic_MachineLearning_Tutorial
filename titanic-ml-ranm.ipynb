{
 "cells": [
  {
   "cell_type": "code",
   "execution_count": 1,
   "metadata": {
    "_cell_guid": "b1076dfc-b9ad-4769-8c92-a6c4dae69d19",
    "_uuid": "8f2839f25d086af736a60e9eeb907d3b93b6e0e5"
   },
   "outputs": [
    {
     "name": "stdout",
     "output_type": "stream",
     "text": [
      "/kaggle/input/titanic/train_and_test2.csv\n"
     ]
    }
   ],
   "source": [
    "# This Python 3 environment comes with many helpful analytics libraries installed\n",
    "# It is defined by the kaggle/python docker image: https://github.com/kaggle/docker-python\n",
    "# For example, here's several helpful packages to load in \n",
    "\n",
    "import numpy as np # linear algebra\n",
    "import pandas as pd # data processing, CSV file I/O (e.g. pd.read_csv)\n",
    "import matplotlib.pyplot as plt\n",
    "import seaborn as sns\n",
    "%matplotlib inline\n",
    "\n",
    "from sklearn.neighbors import KNeighborsClassifier\n",
    "from sklearn.linear_model import LogisticRegression\n",
    "from sklearn.linear_model import LinearRegression\n",
    "from sklearn import metrics\n",
    "from sklearn.model_selection import train_test_split\n",
    "from sklearn.metrics import confusion_matrix, classification_report\n",
    "\n",
    "\n",
    "# Input data files are available in the \"../input/\" directory.\n",
    "# For example, running this (by clicking run or pressing Shift+Enter) will list all files under the input directory\n",
    "\n",
    "import os\n",
    "for dirname, _, filenames in os.walk('/kaggle/input'):\n",
    "    for filename in filenames:\n",
    "        print(os.path.join(dirname, filename))\n",
    "\n",
    "# Any results you write to the current directory are saved as output."
   ]
  },
  {
   "cell_type": "markdown",
   "metadata": {},
   "source": [
    "## Load in the unseparated dataset (complete)"
   ]
  },
  {
   "cell_type": "code",
   "execution_count": 2,
   "metadata": {
    "_cell_guid": "79c7e3d0-c299-4dcb-8224-4455121ee9b0",
    "_uuid": "d629ff2d2480ee46fbb7e2d37f6b5fab8052498a"
   },
   "outputs": [],
   "source": [
    "df = pd.read_csv(\"/kaggle/input/titanic/train_and_test2.csv\")"
   ]
  },
  {
   "cell_type": "markdown",
   "metadata": {},
   "source": [
    "## Set the index to `Passengerid` and remove any Null values from `Embarked`"
   ]
  },
  {
   "cell_type": "code",
   "execution_count": 3,
   "metadata": {},
   "outputs": [
    {
     "name": "stdout",
     "output_type": "stream",
     "text": [
      "<class 'pandas.core.frame.DataFrame'>\n",
      "Int64Index: 1307 entries, 0 to 1308\n",
      "Data columns (total 28 columns):\n",
      "Passengerid    1307 non-null int64\n",
      "Age            1307 non-null float64\n",
      "Fare           1307 non-null float64\n",
      "Sex            1307 non-null int64\n",
      "sibsp          1307 non-null int64\n",
      "zero           1307 non-null int64\n",
      "zero.1         1307 non-null int64\n",
      "zero.2         1307 non-null int64\n",
      "zero.3         1307 non-null int64\n",
      "zero.4         1307 non-null int64\n",
      "zero.5         1307 non-null int64\n",
      "zero.6         1307 non-null int64\n",
      "Parch          1307 non-null int64\n",
      "zero.7         1307 non-null int64\n",
      "zero.8         1307 non-null int64\n",
      "zero.9         1307 non-null int64\n",
      "zero.10        1307 non-null int64\n",
      "zero.11        1307 non-null int64\n",
      "zero.12        1307 non-null int64\n",
      "zero.13        1307 non-null int64\n",
      "zero.14        1307 non-null int64\n",
      "Pclass         1307 non-null int64\n",
      "zero.15        1307 non-null int64\n",
      "zero.16        1307 non-null int64\n",
      "Embarked       1307 non-null float64\n",
      "zero.17        1307 non-null int64\n",
      "zero.18        1307 non-null int64\n",
      "2urvived       1307 non-null int64\n",
      "dtypes: float64(3), int64(25)\n",
      "memory usage: 296.1 KB\n"
     ]
    }
   ],
   "source": [
    "df.set_index(\"Passengerid\")\n",
    "df.isna().sum()\n",
    "df = df.dropna(subset=[\"Embarked\"])\n",
    "df.isna().sum()\n",
    "df.info()\n",
    "#df.Embarked.head()"
   ]
  },
  {
   "cell_type": "markdown",
   "metadata": {},
   "source": [
    "# 1. KNN Nearest Neighbour Method"
   ]
  },
  {
   "cell_type": "code",
   "execution_count": 4,
   "metadata": {},
   "outputs": [],
   "source": [
    "#instantiate the estimator and randomly set the parameter to 3\n",
    "knn = KNeighborsClassifier(n_neighbors=3)"
   ]
  },
  {
   "cell_type": "markdown",
   "metadata": {},
   "source": [
    "# 1.1. Choose the feature and target column(s)"
   ]
  },
  {
   "cell_type": "code",
   "execution_count": 5,
   "metadata": {},
   "outputs": [],
   "source": [
    "# features:\n",
    "features = [\"Age\", \"Sex\", \"Pclass\", \"Embarked\"]\n",
    "#target = [\"2urvived\"]\n",
    "X = df[features]\n",
    "# target:\n",
    "\n",
    "y = df[\"2urvived\"]"
   ]
  },
  {
   "cell_type": "markdown",
   "metadata": {},
   "source": [
    "## Check the shape of the feature and target data:"
   ]
  },
  {
   "cell_type": "code",
   "execution_count": 6,
   "metadata": {},
   "outputs": [
    {
     "name": "stdout",
     "output_type": "stream",
     "text": [
      "(1307, 4)\n",
      "(1307,)\n"
     ]
    }
   ],
   "source": [
    "print(X.shape)\n",
    "print(y.shape)"
   ]
  },
  {
   "cell_type": "markdown",
   "metadata": {},
   "source": [
    "# 1.2. Splitting the dataset into train and test"
   ]
  },
  {
   "cell_type": "code",
   "execution_count": 7,
   "metadata": {},
   "outputs": [],
   "source": [
    "# create training and testing sets --> test will be 25% of the overall dataset:\n",
    "X_train, X_test, y_train, y_test = train_test_split(X,y,test_size=0.25, random_state=4)"
   ]
  },
  {
   "cell_type": "markdown",
   "metadata": {},
   "source": [
    "## Check the shape of the train features and train targets:"
   ]
  },
  {
   "cell_type": "code",
   "execution_count": 8,
   "metadata": {},
   "outputs": [
    {
     "name": "stdout",
     "output_type": "stream",
     "text": [
      "(980, 4)\n",
      "(980,)\n"
     ]
    }
   ],
   "source": [
    "print(X_train.shape)\n",
    "print(y_train.shape)"
   ]
  },
  {
   "cell_type": "markdown",
   "metadata": {},
   "source": [
    "## Check the shape of the test features and test targets:"
   ]
  },
  {
   "cell_type": "code",
   "execution_count": 9,
   "metadata": {},
   "outputs": [
    {
     "name": "stdout",
     "output_type": "stream",
     "text": [
      "(327, 4)\n",
      "(327,)\n"
     ]
    }
   ],
   "source": [
    "print(X_test.shape)\n",
    "print(y_test.shape)"
   ]
  },
  {
   "cell_type": "markdown",
   "metadata": {},
   "source": [
    "## Check for any Null values in the train feature-set:"
   ]
  },
  {
   "cell_type": "code",
   "execution_count": 10,
   "metadata": {},
   "outputs": [
    {
     "data": {
      "text/plain": [
       "Age         0\n",
       "Sex         0\n",
       "Pclass      0\n",
       "Embarked    0\n",
       "dtype: int64"
      ]
     },
     "execution_count": 10,
     "metadata": {},
     "output_type": "execute_result"
    }
   ],
   "source": [
    "X_train.isna().sum()"
   ]
  },
  {
   "cell_type": "markdown",
   "metadata": {},
   "source": [
    "# 1.3. Fit the model with the feature and target of the complete dataset"
   ]
  },
  {
   "cell_type": "code",
   "execution_count": 11,
   "metadata": {},
   "outputs": [
    {
     "data": {
      "text/plain": [
       "KNeighborsClassifier(algorithm='auto', leaf_size=30, metric='minkowski',\n",
       "                     metric_params=None, n_jobs=None, n_neighbors=3, p=2,\n",
       "                     weights='uniform')"
      ]
     },
     "execution_count": 11,
     "metadata": {},
     "output_type": "execute_result"
    }
   ],
   "source": [
    "knn.fit(X,y)"
   ]
  },
  {
   "cell_type": "markdown",
   "metadata": {},
   "source": [
    "# 1.4. Predict the target by passing the `X_test` data to the Classifier\n",
    "- `0` represents a victim\n",
    "- `1` represents a survivor"
   ]
  },
  {
   "cell_type": "code",
   "execution_count": 12,
   "metadata": {},
   "outputs": [
    {
     "name": "stdout",
     "output_type": "stream",
     "text": [
      "[0 0 0 0 1 0 1 0 0 0 0 0 0 0 1 0 1 0 1 0 0 0 0 1 0 0 0 0 1 0 1 0 1 0 0 0 1\n",
      " 0 0 0 0 0 0 0 0 0 0 1 0 1 0 1 0 0 0 0 1 0 0 0 0 0 0 1 0 0 0 0 1 1 0 0 0 1\n",
      " 0 0 0 1 0 0 0 0 1 1 1 0 1 0 0 0 0 0 1 0 1 0 0 0 0 1 0 0 1 0 1 0 0 0 1 0 0\n",
      " 1 0 0 0 0 0 1 0 0 0 1 0 0 1 1 0 0 0 0 0 1 0 0 0 0 0 0 0 0 0 0 0 0 0 1 0 0\n",
      " 0 0 0 0 0 0 0 0 0 0 0 1 1 0 1 0 0 0 0 0 0 1 0 0 0 1 0 0 0 0 0 0 1 0 0 0 0\n",
      " 1 1 0 0 0 0 0 1 0 0 1 1 1 0 0 0 1 1 0 0 1 0 0 1 0 1 0 0 0 1 1 0 0 0 0 1 1\n",
      " 1 0 0 0 0 0 0 0 0 0 0 0 0 0 0 1 0 0 0 0 0 0 0 0 0 1 0 0 0 0 0 0 0 0 1 1 0\n",
      " 1 1 0 0 0 0 0 0 0 0 1 0 0 0 0 1 1 1 0 0 0 0 0 0 0 0 0 0 0 0 1 0 0 0 0 1 0\n",
      " 0 0 0 0 0 0 0 1 0 1 0 0 0 0 0 1 0 0 0 0 1 0 0 0 0 0 0 1 0 1 0]\n"
     ]
    }
   ],
   "source": [
    "kn_pred = knn.predict(X_test)\n",
    "print(kn_pred)"
   ]
  },
  {
   "cell_type": "markdown",
   "metadata": {},
   "source": [
    "# 2. Logistic Regression Method\n",
    "# 2.1. Creating the Classifier\n",
    "# 2.2. Fitting the Classifier with the training data\n",
    "# 2.3. Using the test-features to predict the targets"
   ]
  },
  {
   "cell_type": "code",
   "execution_count": 13,
   "metadata": {},
   "outputs": [
    {
     "name": "stdout",
     "output_type": "stream",
     "text": [
      "[0 0 0 0 0 0 0 0 0 0 0 0 0 0 0 0 0 0 1 0 0 0 0 1 0 0 0 0 0 1 0 0 0 0 0 0 1\n",
      " 0 0 0 0 0 0 0 0 0 0 1 0 1 0 0 0 1 0 1 1 0 0 1 0 0 0 0 0 1 0 1 0 0 0 0 0 0\n",
      " 0 0 0 1 0 0 0 0 0 1 0 0 1 0 0 0 0 1 0 0 1 0 0 0 0 1 1 0 0 0 0 0 0 0 1 0 1\n",
      " 0 0 0 0 0 1 0 0 0 0 0 0 0 1 0 0 0 0 0 0 0 0 0 0 0 0 0 1 0 0 0 0 0 0 0 0 0\n",
      " 0 0 0 0 0 0 0 1 0 0 0 0 0 0 1 1 0 0 0 0 0 1 0 0 0 0 0 0 0 0 0 0 0 1 0 0 0\n",
      " 0 1 0 0 0 0 0 0 0 0 0 0 0 1 0 0 0 0 0 0 1 0 0 0 1 0 1 0 0 0 0 0 0 0 0 1 0\n",
      " 0 0 0 0 0 0 0 0 0 0 0 0 0 0 0 0 1 0 0 0 1 0 0 0 0 0 0 0 0 0 0 0 0 0 0 0 0\n",
      " 1 1 0 0 1 0 0 0 0 1 1 0 0 0 0 1 1 0 0 0 0 0 0 0 0 0 0 0 0 0 0 0 0 0 0 0 0\n",
      " 0 0 0 0 0 0 0 0 0 0 0 0 0 0 0 0 0 0 0 0 1 0 1 0 0 0 0 0 0 1 0]\n"
     ]
    },
    {
     "name": "stderr",
     "output_type": "stream",
     "text": [
      "/opt/conda/lib/python3.6/site-packages/sklearn/linear_model/logistic.py:432: FutureWarning: Default solver will be changed to 'lbfgs' in 0.22. Specify a solver to silence this warning.\n",
      "  FutureWarning)\n"
     ]
    }
   ],
   "source": [
    "logreg = LogisticRegression(max_iter = 1000)\n",
    "\n",
    "logreg.fit(X_train, y_train)\n",
    "y_pred = logreg.predict(X_test)\n",
    "print(y_pred)"
   ]
  },
  {
   "cell_type": "code",
   "execution_count": 14,
   "metadata": {},
   "outputs": [
    {
     "data": {
      "text/html": [
       "<div>\n",
       "<style scoped>\n",
       "    .dataframe tbody tr th:only-of-type {\n",
       "        vertical-align: middle;\n",
       "    }\n",
       "\n",
       "    .dataframe tbody tr th {\n",
       "        vertical-align: top;\n",
       "    }\n",
       "\n",
       "    .dataframe thead th {\n",
       "        text-align: right;\n",
       "    }\n",
       "</style>\n",
       "<table border=\"1\" class=\"dataframe\">\n",
       "  <thead>\n",
       "    <tr style=\"text-align: right;\">\n",
       "      <th></th>\n",
       "      <th>Weight</th>\n",
       "    </tr>\n",
       "    <tr>\n",
       "      <th>Feature</th>\n",
       "      <th></th>\n",
       "    </tr>\n",
       "  </thead>\n",
       "  <tbody>\n",
       "    <tr>\n",
       "      <th>Age</th>\n",
       "      <td>[-0.026322293233789516, 1.7370504388411845, -0...</td>\n",
       "    </tr>\n",
       "  </tbody>\n",
       "</table>\n",
       "</div>"
      ],
      "text/plain": [
       "                                                    Weight\n",
       "Feature                                                   \n",
       "Age      [-0.026322293233789516, 1.7370504388411845, -0..."
      ]
     },
     "execution_count": 14,
     "metadata": {},
     "output_type": "execute_result"
    }
   ],
   "source": [
    "weights = list(zip(features, logreg.coef_))\n",
    "weights = pd.DataFrame(weights)\n",
    "weights.columns = ['Feature', 'Weight']\n",
    "weights.set_index('Feature', inplace=True)\n",
    "weights.sort_values(by='Weight', inplace=True)\n",
    "weights"
   ]
  },
  {
   "cell_type": "markdown",
   "metadata": {},
   "source": [
    "# 3. Comparing the accuracy of both methods"
   ]
  },
  {
   "cell_type": "code",
   "execution_count": 15,
   "metadata": {},
   "outputs": [
    {
     "name": "stdout",
     "output_type": "stream",
     "text": [
      "Logistic Regression 0.7706422018348624\n",
      "KNN 0.8165137614678899\n"
     ]
    }
   ],
   "source": [
    "print(\"Logistic Regression\", metrics.accuracy_score(y_test, y_pred))\n",
    "print(\"KNN\",metrics.accuracy_score(y_test, kn_pred))"
   ]
  },
  {
   "cell_type": "markdown",
   "metadata": {},
   "source": [
    "## in the above case KNN wins with the preset of n = 3"
   ]
  },
  {
   "cell_type": "markdown",
   "metadata": {},
   "source": [
    "# 3.1. Evaluating the ideal value for KNN n"
   ]
  },
  {
   "cell_type": "code",
   "execution_count": 16,
   "metadata": {},
   "outputs": [],
   "source": [
    "k_range = range(1,31)\n",
    "scores = []\n",
    "for k in k_range:\n",
    "    knn = KNeighborsClassifier(n_neighbors=k)\n",
    "    knn.fit(X_train,y_train)\n",
    "    y_pred = knn.predict(X_test)\n",
    "    scores.append(metrics.accuracy_score(y_test, y_pred))   "
   ]
  },
  {
   "cell_type": "markdown",
   "metadata": {},
   "source": [
    "# 3.2. Plot the results to easily evaluate the best value for n"
   ]
  },
  {
   "cell_type": "code",
   "execution_count": 17,
   "metadata": {},
   "outputs": [
    {
     "data": {
      "image/png": "[encoded data removed]",
      "text/plain": [
       "<Figure size 432x288 with 1 Axes>"
      ]
     },
     "metadata": {
      "needs_background": "light"
     },
     "output_type": "display_data"
    }
   ],
   "source": [
    "plt.plot(k_range, scores)\n",
    "plt.xlabel(\"Value for k\")\n",
    "plt.ylabel(\"Accuracy Score\")\n",
    "plt.show()"
   ]
  },
  {
   "cell_type": "markdown",
   "metadata": {},
   "source": [
    "## the optimal value for n is between 0 and 5 --> around 3"
   ]
  },
  {
   "cell_type": "markdown",
   "metadata": {},
   "source": [
    "# 3.3 Visualize relationship between features and target using scatterplot"
   ]
  },
  {
   "cell_type": "code",
   "execution_count": 18,
   "metadata": {},
   "outputs": [
    {
     "name": "stderr",
     "output_type": "stream",
     "text": [
      "/opt/conda/lib/python3.6/site-packages/seaborn/axisgrid.py:2065: UserWarning: The `size` parameter has been renamed to `height`; pleaes update your code.\n",
      "  warnings.warn(msg, UserWarning)\n"
     ]
    },
    {
     "data": {
      "image/png": "[encoded data removed]",
      "text/plain": [
       "<Figure size 1411.2x504 with 4 Axes>"
      ]
     },
     "metadata": {
      "needs_background": "light"
     },
     "output_type": "display_data"
    }
   ],
   "source": [
    "sns.pairplot(df, x_vars=[\"Age\",\"Sex\",\"Pclass\",\"Embarked\"], y_vars=\"2urvived\",size=7, aspect=0.7, kind=\"reg\")\n",
    "plt.show()"
   ]
  },
  {
   "cell_type": "markdown",
   "metadata": {},
   "source": [
    "# 4. Linear Regression Method\n",
    "# 4.1. Instantiate Classifier\n",
    "# 4.2. Fit the Model with the training data"
   ]
  },
  {
   "cell_type": "code",
   "execution_count": 19,
   "metadata": {},
   "outputs": [
    {
     "data": {
      "text/plain": [
       "LinearRegression(copy_X=True, fit_intercept=True, n_jobs=None, normalize=False)"
      ]
     },
     "execution_count": 19,
     "metadata": {},
     "output_type": "execute_result"
    }
   ],
   "source": [
    "linreg = LinearRegression()\n",
    "linreg.fit(X_train, y_train)\n"
   ]
  },
  {
   "cell_type": "markdown",
   "metadata": {},
   "source": [
    "# 4.3. Interpreting model coefficients"
   ]
  },
  {
   "cell_type": "code",
   "execution_count": 20,
   "metadata": {},
   "outputs": [
    {
     "name": "stdout",
     "output_type": "stream",
     "text": [
      "0.6057090131088546\n",
      "[-0.00455882  0.32313967 -0.12808028 -0.02329795]\n"
     ]
    }
   ],
   "source": [
    "print(linreg.intercept_)\n",
    "print(linreg.coef_)"
   ]
  },
  {
   "cell_type": "markdown",
   "metadata": {},
   "source": [
    "# 4.4. Pair feature names with the coefficients"
   ]
  },
  {
   "cell_type": "code",
   "execution_count": 21,
   "metadata": {},
   "outputs": [
    {
     "data": {
      "text/html": [
       "<div>\n",
       "<style scoped>\n",
       "    .dataframe tbody tr th:only-of-type {\n",
       "        vertical-align: middle;\n",
       "    }\n",
       "\n",
       "    .dataframe tbody tr th {\n",
       "        vertical-align: top;\n",
       "    }\n",
       "\n",
       "    .dataframe thead th {\n",
       "        text-align: right;\n",
       "    }\n",
       "</style>\n",
       "<table border=\"1\" class=\"dataframe\">\n",
       "  <thead>\n",
       "    <tr style=\"text-align: right;\">\n",
       "      <th></th>\n",
       "      <th>Weight</th>\n",
       "    </tr>\n",
       "    <tr>\n",
       "      <th>Feature</th>\n",
       "      <th></th>\n",
       "    </tr>\n",
       "  </thead>\n",
       "  <tbody>\n",
       "    <tr>\n",
       "      <th>Pclass</th>\n",
       "      <td>-0.128080</td>\n",
       "    </tr>\n",
       "    <tr>\n",
       "      <th>Embarked</th>\n",
       "      <td>-0.023298</td>\n",
       "    </tr>\n",
       "    <tr>\n",
       "      <th>Age</th>\n",
       "      <td>-0.004559</td>\n",
       "    </tr>\n",
       "    <tr>\n",
       "      <th>Sex</th>\n",
       "      <td>0.323140</td>\n",
       "    </tr>\n",
       "  </tbody>\n",
       "</table>\n",
       "</div>"
      ],
      "text/plain": [
       "            Weight\n",
       "Feature           \n",
       "Pclass   -0.128080\n",
       "Embarked -0.023298\n",
       "Age      -0.004559\n",
       "Sex       0.323140"
      ]
     },
     "execution_count": 21,
     "metadata": {},
     "output_type": "execute_result"
    }
   ],
   "source": [
    "lin_weights = list(zip(features, linreg.coef_))\n",
    "lin_weights = pd.DataFrame(lin_weights)\n",
    "lin_weights.columns = ['Feature', 'Weight']\n",
    "lin_weights.set_index('Feature', inplace=True)\n",
    "lin_weights.sort_values(by='Weight', inplace=True)\n",
    "lin_weights"
   ]
  },
  {
   "cell_type": "code",
   "execution_count": 22,
   "metadata": {},
   "outputs": [
    {
     "name": "stdout",
     "output_type": "stream",
     "text": [
      "0.5246230625870018\n"
     ]
    }
   ],
   "source": [
    "print(np.sqrt(metrics.mean_squared_error(y_test,y_pred))) #try to improve RMSE by removing features"
   ]
  },
  {
   "cell_type": "markdown",
   "metadata": {},
   "source": [
    "***\n",
    "# Visualization\n",
    "## Use seaborn (sns) to plot a chart with 2 columns: died or survived (0 or 1)"
   ]
  },
  {
   "cell_type": "code",
   "execution_count": 23,
   "metadata": {},
   "outputs": [
    {
     "data": {
      "image/png": "[encoded data removed]",
      "text/plain": [
       "<Figure size 432x288 with 1 Axes>"
      ]
     },
     "metadata": {
      "needs_background": "light"
     },
     "output_type": "display_data"
    }
   ],
   "source": [
    "sns.countplot(x = \"2urvived\", data=df)\n",
    "plt.show()"
   ]
  },
  {
   "cell_type": "markdown",
   "metadata": {},
   "source": [
    "##  Use seaborn to plot a chart of survived vs. died, broken down by male vs female"
   ]
  },
  {
   "cell_type": "code",
   "execution_count": 24,
   "metadata": {},
   "outputs": [
    {
     "data": {
      "image/png": "[encoded data removed]",
      "text/plain": [
       "<Figure size 432x288 with 1 Axes>"
      ]
     },
     "metadata": {
      "needs_background": "light"
     },
     "output_type": "display_data"
    }
   ],
   "source": [
    "sns.countplot(x=\"2urvived\", data=df, hue=\"Sex\")\n",
    "plt.show()"
   ]
  },
  {
   "cell_type": "markdown",
   "metadata": {},
   "source": [
    "## Use seaborn to plot a chart of survived vs died, broken down by Pclass"
   ]
  },
  {
   "cell_type": "code",
   "execution_count": 25,
   "metadata": {},
   "outputs": [
    {
     "data": {
      "image/png": "[encoded data removed]",
      "text/plain": [
       "<Figure size 432x288 with 1 Axes>"
      ]
     },
     "metadata": {
      "needs_background": "light"
     },
     "output_type": "display_data"
    }
   ],
   "source": [
    "sns.countplot(x=\"2urvived\", data=df, hue=\"Pclass\")\n",
    "plt.show()"
   ]
  },
  {
   "cell_type": "markdown",
   "metadata": {},
   "source": [
    "# Use seaborn to plot a distribution of the amounts in Fare"
   ]
  },
  {
   "cell_type": "code",
   "execution_count": 26,
   "metadata": {},
   "outputs": [
    {
     "data": {
      "image/png": "[encoded data removed]",
      "text/plain": [
       "<Figure size 432x288 with 1 Axes>"
      ]
     },
     "metadata": {
      "needs_background": "light"
     },
     "output_type": "display_data"
    }
   ],
   "source": [
    "sns.distplot(df.Fare)\n",
    "plt.show()"
   ]
  },
  {
   "cell_type": "markdown",
   "metadata": {},
   "source": [
    "## Plot a histogram (using any method you like) of the data in Fare"
   ]
  },
  {
   "cell_type": "code",
   "execution_count": 27,
   "metadata": {},
   "outputs": [
    {
     "data": {
      "image/png": "[encoded data removed]",
      "text/plain": [
       "<Figure size 432x288 with 1 Axes>"
      ]
     },
     "metadata": {
      "needs_background": "light"
     },
     "output_type": "display_data"
    }
   ],
   "source": [
    "sns.distplot(df.Fare, bins=10, kde=False, rug=True)\n",
    "plt.show()"
   ]
  },
  {
   "cell_type": "markdown",
   "metadata": {},
   "source": [
    "## Calculate the correlation of each feature (column) vs. the other features (columns)"
   ]
  },
  {
   "cell_type": "code",
   "execution_count": 28,
   "metadata": {},
   "outputs": [
    {
     "data": {
      "text/html": [
       "<div>\n",
       "<style scoped>\n",
       "    .dataframe tbody tr th:only-of-type {\n",
       "        vertical-align: middle;\n",
       "    }\n",
       "\n",
       "    .dataframe tbody tr th {\n",
       "        vertical-align: top;\n",
       "    }\n",
       "\n",
       "    .dataframe thead th {\n",
       "        text-align: right;\n",
       "    }\n",
       "</style>\n",
       "<table border=\"1\" class=\"dataframe\">\n",
       "  <thead>\n",
       "    <tr style=\"text-align: right;\">\n",
       "      <th></th>\n",
       "      <th>Passengerid</th>\n",
       "      <th>Age</th>\n",
       "      <th>Fare</th>\n",
       "      <th>Sex</th>\n",
       "      <th>sibsp</th>\n",
       "      <th>Parch</th>\n",
       "      <th>Pclass</th>\n",
       "      <th>Embarked</th>\n",
       "      <th>2urvived</th>\n",
       "    </tr>\n",
       "  </thead>\n",
       "  <tbody>\n",
       "    <tr>\n",
       "      <th>Passengerid</th>\n",
       "      <td>1.000000</td>\n",
       "      <td>0.025792</td>\n",
       "      <td>0.031945</td>\n",
       "      <td>-0.012297</td>\n",
       "      <td>-0.055696</td>\n",
       "      <td>0.008576</td>\n",
       "      <td>-0.039776</td>\n",
       "      <td>-0.051518</td>\n",
       "      <td>-0.331125</td>\n",
       "    </tr>\n",
       "    <tr>\n",
       "      <th>Age</th>\n",
       "      <td>0.025792</td>\n",
       "      <td>1.000000</td>\n",
       "      <td>0.176554</td>\n",
       "      <td>-0.057161</td>\n",
       "      <td>-0.189332</td>\n",
       "      <td>-0.125112</td>\n",
       "      <td>-0.375811</td>\n",
       "      <td>-0.065125</td>\n",
       "      <td>-0.060236</td>\n",
       "    </tr>\n",
       "    <tr>\n",
       "      <th>Fare</th>\n",
       "      <td>0.031945</td>\n",
       "      <td>0.176554</td>\n",
       "      <td>1.000000</td>\n",
       "      <td>0.184192</td>\n",
       "      <td>0.161141</td>\n",
       "      <td>0.222422</td>\n",
       "      <td>-0.557915</td>\n",
       "      <td>-0.239212</td>\n",
       "      <td>0.171942</td>\n",
       "    </tr>\n",
       "    <tr>\n",
       "      <th>Sex</th>\n",
       "      <td>-0.012297</td>\n",
       "      <td>-0.057161</td>\n",
       "      <td>0.184192</td>\n",
       "      <td>1.000000</td>\n",
       "      <td>0.110768</td>\n",
       "      <td>0.214371</td>\n",
       "      <td>-0.121826</td>\n",
       "      <td>-0.099408</td>\n",
       "      <td>0.401985</td>\n",
       "    </tr>\n",
       "    <tr>\n",
       "      <th>sibsp</th>\n",
       "      <td>-0.055696</td>\n",
       "      <td>-0.189332</td>\n",
       "      <td>0.161141</td>\n",
       "      <td>0.110768</td>\n",
       "      <td>1.000000</td>\n",
       "      <td>0.373383</td>\n",
       "      <td>0.059819</td>\n",
       "      <td>0.066055</td>\n",
       "      <td>-0.013174</td>\n",
       "    </tr>\n",
       "    <tr>\n",
       "      <th>Parch</th>\n",
       "      <td>0.008576</td>\n",
       "      <td>-0.125112</td>\n",
       "      <td>0.222422</td>\n",
       "      <td>0.214371</td>\n",
       "      <td>0.373383</td>\n",
       "      <td>1.000000</td>\n",
       "      <td>0.017304</td>\n",
       "      <td>0.045216</td>\n",
       "      <td>0.056183</td>\n",
       "    </tr>\n",
       "    <tr>\n",
       "      <th>Pclass</th>\n",
       "      <td>-0.039776</td>\n",
       "      <td>-0.375811</td>\n",
       "      <td>-0.557915</td>\n",
       "      <td>-0.121826</td>\n",
       "      <td>0.059819</td>\n",
       "      <td>0.017304</td>\n",
       "      <td>1.000000</td>\n",
       "      <td>0.187349</td>\n",
       "      <td>-0.241672</td>\n",
       "    </tr>\n",
       "    <tr>\n",
       "      <th>Embarked</th>\n",
       "      <td>-0.051518</td>\n",
       "      <td>-0.065125</td>\n",
       "      <td>-0.239212</td>\n",
       "      <td>-0.099408</td>\n",
       "      <td>0.066055</td>\n",
       "      <td>0.045216</td>\n",
       "      <td>0.187349</td>\n",
       "      <td>1.000000</td>\n",
       "      <td>-0.093225</td>\n",
       "    </tr>\n",
       "    <tr>\n",
       "      <th>2urvived</th>\n",
       "      <td>-0.331125</td>\n",
       "      <td>-0.060236</td>\n",
       "      <td>0.171942</td>\n",
       "      <td>0.401985</td>\n",
       "      <td>-0.013174</td>\n",
       "      <td>0.056183</td>\n",
       "      <td>-0.241672</td>\n",
       "      <td>-0.093225</td>\n",
       "      <td>1.000000</td>\n",
       "    </tr>\n",
       "  </tbody>\n",
       "</table>\n",
       "</div>"
      ],
      "text/plain": [
       "             Passengerid       Age      Fare       Sex     sibsp     Parch  \\\n",
       "Passengerid     1.000000  0.025792  0.031945 -0.012297 -0.055696  0.008576   \n",
       "Age             0.025792  1.000000  0.176554 -0.057161 -0.189332 -0.125112   \n",
       "Fare            0.031945  0.176554  1.000000  0.184192  0.161141  0.222422   \n",
       "Sex            -0.012297 -0.057161  0.184192  1.000000  0.110768  0.214371   \n",
       "sibsp          -0.055696 -0.189332  0.161141  0.110768  1.000000  0.373383   \n",
       "Parch           0.008576 -0.125112  0.222422  0.214371  0.373383  1.000000   \n",
       "Pclass         -0.039776 -0.375811 -0.557915 -0.121826  0.059819  0.017304   \n",
       "Embarked       -0.051518 -0.065125 -0.239212 -0.099408  0.066055  0.045216   \n",
       "2urvived       -0.331125 -0.060236  0.171942  0.401985 -0.013174  0.056183   \n",
       "\n",
       "               Pclass  Embarked  2urvived  \n",
       "Passengerid -0.039776 -0.051518 -0.331125  \n",
       "Age         -0.375811 -0.065125 -0.060236  \n",
       "Fare        -0.557915 -0.239212  0.171942  \n",
       "Sex         -0.121826 -0.099408  0.401985  \n",
       "sibsp        0.059819  0.066055 -0.013174  \n",
       "Parch        0.017304  0.045216  0.056183  \n",
       "Pclass       1.000000  0.187349 -0.241672  \n",
       "Embarked     0.187349  1.000000 -0.093225  \n",
       "2urvived    -0.241672 -0.093225  1.000000  "
      ]
     },
     "execution_count": 28,
     "metadata": {},
     "output_type": "execute_result"
    }
   ],
   "source": [
    "zero_cols = [col for col in df.columns if 'zero' not in col]\n",
    "corr=df[zero_cols].corr()\n",
    "corr"
   ]
  },
  {
   "cell_type": "markdown",
   "metadata": {},
   "source": [
    "## Use seaborn to plot a heatmap of the correlation data"
   ]
  },
  {
   "cell_type": "code",
   "execution_count": 29,
   "metadata": {},
   "outputs": [
    {
     "data": {
      "image/png": "[encoded data removed]",
      "text/plain": [
       "<Figure size 432x288 with 2 Axes>"
      ]
     },
     "metadata": {
      "needs_background": "light"
     },
     "output_type": "display_data"
    }
   ],
   "source": [
    "sns.heatmap(corr)\n",
    "plt.show()"
   ]
  },
  {
   "cell_type": "markdown",
   "metadata": {},
   "source": [
    "## Plot a histogram of the Age data"
   ]
  },
  {
   "cell_type": "code",
   "execution_count": 30,
   "metadata": {},
   "outputs": [
    {
     "data": {
      "image/png": "[encoded data removed]",
      "text/plain": [
       "<Figure size 432x288 with 1 Axes>"
      ]
     },
     "metadata": {
      "needs_background": "light"
     },
     "output_type": "display_data"
    }
   ],
   "source": [
    "sns.distplot(df.Age, bins=10, kde=False, rug=True)\n",
    "plt.show()"
   ]
  },
  {
   "cell_type": "markdown",
   "metadata": {},
   "source": [
    "## Use Seaborn to create a boxplot of the Age data broken into the 3 Pclass columns"
   ]
  },
  {
   "cell_type": "code",
   "execution_count": 31,
   "metadata": {},
   "outputs": [
    {
     "data": {
      "image/png": "[encoded data removed]",
      "text/plain": [
       "<Figure size 432x288 with 1 Axes>"
      ]
     },
     "metadata": {
      "needs_background": "light"
     },
     "output_type": "display_data"
    }
   ],
   "source": [
    "sns.boxplot(x=\"Pclass\", y=\"Age\", data=df)\n",
    "plt.show()"
   ]
  },
  {
   "cell_type": "markdown",
   "metadata": {},
   "source": [
    "## Use Seaborn to create a swarmplot of the Age data broken down into the 3 Pclass columns"
   ]
  },
  {
   "cell_type": "code",
   "execution_count": 32,
   "metadata": {},
   "outputs": [
    {
     "data": {
      "image/png": "[encoded data removed]",
      "text/plain": [
       "<Figure size 432x288 with 1 Axes>"
      ]
     },
     "metadata": {
      "needs_background": "light"
     },
     "output_type": "display_data"
    }
   ],
   "source": [
    "#sns.swarmplot(x=df[\"total_bill\"])\n",
    "sns.swarmplot(y=\"Age\", x=\"Pclass\", data=df)\n",
    "plt.show()"
   ]
  },
  {
   "cell_type": "markdown",
   "metadata": {},
   "source": [
    "# Data Wrangling\n",
    "## Data Cleaning"
   ]
  },
  {
   "cell_type": "code",
   "execution_count": 33,
   "metadata": {},
   "outputs": [
    {
     "name": "stdout",
     "output_type": "stream",
     "text": [
      "<class 'pandas.core.frame.DataFrame'>\n",
      "Int64Index: 1307 entries, 0 to 1308\n",
      "Data columns (total 28 columns):\n",
      "Passengerid    1307 non-null int64\n",
      "Age            1307 non-null float64\n",
      "Fare           1307 non-null float64\n",
      "Sex            1307 non-null int64\n",
      "sibsp          1307 non-null int64\n",
      "zero           1307 non-null int64\n",
      "zero.1         1307 non-null int64\n",
      "zero.2         1307 non-null int64\n",
      "zero.3         1307 non-null int64\n",
      "zero.4         1307 non-null int64\n",
      "zero.5         1307 non-null int64\n",
      "zero.6         1307 non-null int64\n",
      "Parch          1307 non-null int64\n",
      "zero.7         1307 non-null int64\n",
      "zero.8         1307 non-null int64\n",
      "zero.9         1307 non-null int64\n",
      "zero.10        1307 non-null int64\n",
      "zero.11        1307 non-null int64\n",
      "zero.12        1307 non-null int64\n",
      "zero.13        1307 non-null int64\n",
      "zero.14        1307 non-null int64\n",
      "Pclass         1307 non-null int64\n",
      "zero.15        1307 non-null int64\n",
      "zero.16        1307 non-null int64\n",
      "Embarked       1307 non-null float64\n",
      "zero.17        1307 non-null int64\n",
      "zero.18        1307 non-null int64\n",
      "2urvived       1307 non-null int64\n",
      "dtypes: float64(3), int64(25)\n",
      "memory usage: 336.1 KB\n",
      "Complete Dataset:  None\n",
      "X_train:         Age  Sex  Pclass  Embarked\n",
      "301   28.0    0       3       1.0\n",
      "1105  38.0    1       3       2.0\n",
      "314   43.0    0       2       2.0\n",
      "771   48.0    0       3       2.0\n",
      "861   21.0    0       2       2.0\n",
      "...    ...  ...     ...       ...\n",
      "361   29.0    0       2       0.0\n",
      "710   24.0    1       1       0.0\n",
      "440   45.0    1       2       2.0\n",
      "175   18.0    0       3       2.0\n",
      "1148  28.0    0       3       2.0\n",
      "\n",
      "[980 rows x 4 columns]\n",
      "y_train:  301     1\n",
      "1105    0\n",
      "314     0\n",
      "771     0\n",
      "861     0\n",
      "       ..\n",
      "361     0\n",
      "710     1\n",
      "440     1\n",
      "175     0\n",
      "1148    0\n",
      "Name: 2urvived, Length: 980, dtype: int64\n"
     ]
    }
   ],
   "source": [
    "print(\"Complete Dataset: \", df.info())\n",
    "print(\"X_train: \", X_train)\n",
    "print(\"y_train: \", y_train)"
   ]
  },
  {
   "cell_type": "markdown",
   "metadata": {},
   "source": [
    "## Calculate the average Age of the complete dataset"
   ]
  },
  {
   "cell_type": "code",
   "execution_count": 34,
   "metadata": {},
   "outputs": [
    {
     "name": "stdout",
     "output_type": "stream",
     "text": [
      "The average age of the passengers was:  29.0\n"
     ]
    }
   ],
   "source": [
    "print(\"The average age of the passengers was: \", round(df.Age.mean(),0))"
   ]
  },
  {
   "cell_type": "markdown",
   "metadata": {},
   "source": [
    "##  Look at the count of unique values in Embarked to see if it has any data useful to predict survival"
   ]
  },
  {
   "cell_type": "code",
   "execution_count": 35,
   "metadata": {},
   "outputs": [
    {
     "data": {
      "text/plain": [
       "array([2., 0., 1.])"
      ]
     },
     "execution_count": 35,
     "metadata": {},
     "output_type": "execute_result"
    }
   ],
   "source": [
    "df.Embarked.unique() #already converted to numerical"
   ]
  },
  {
   "cell_type": "markdown",
   "metadata": {},
   "source": [
    "## Confusion Matrix\n",
    "True positive | False positive,\n",
    "____|____\n",
    "|\n",
    "False negative | True negative"
   ]
  },
  {
   "cell_type": "code",
   "execution_count": 36,
   "metadata": {},
   "outputs": [
    {
     "name": "stdout",
     "output_type": "stream",
     "text": [
      "[[231   6]\n",
      " [ 84   6]]\n"
     ]
    }
   ],
   "source": [
    "print(confusion_matrix(y_test, y_pred))"
   ]
  },
  {
   "cell_type": "code",
   "execution_count": null,
   "metadata": {},
   "outputs": [],
   "source": []
  },
  {
   "cell_type": "code",
   "execution_count": null,
   "metadata": {},
   "outputs": [],
   "source": []
  },
  {
   "cell_type": "code",
   "execution_count": null,
   "metadata": {},
   "outputs": [],
   "source": []
  }
 ],
 "metadata": {
  "kernelspec": {
   "display_name": "Python 3",
   "language": "python",
   "name": "python3"
  },
  "language_info": {
   "codemirror_mode": {
    "name": "ipython",
    "version": 3
   },
   "file_extension": ".py",
   "mimetype": "text/x-python",
   "name": "python",
   "nbconvert_exporter": "python",
   "pygments_lexer": "ipython3",
   "version": "3.6.6"
  }
 },
 "nbformat": 4,
 "nbformat_minor": 1
}
